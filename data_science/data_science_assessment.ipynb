{
 "cells": [
  {
   "cell_type": "markdown",
   "id": "b2b92996-a0fe-4735-9f9d-405b6414c210",
   "metadata": {},
   "source": [
    "# Data Science Technical Assessment"
   ]
  },
  {
   "cell_type": "markdown",
   "id": "33d36c8f-e326-4f29-8632-35ae0be39c33",
   "metadata": {},
   "source": [
    "At Nexus Equities we are looking for motivated self starters that have the ability to perform technical analysis on a variety of datasets, and create informative vizualizations."
   ]
  },
  {
   "cell_type": "markdown",
   "id": "88fd2618-4515-490b-8701-b2265375e14f",
   "metadata": {},
   "source": [
    "To test your ability to think for yourself as well as your technical skills we have prepared a short assessment that will give us an indication of your ability to undertake tasks and provide value to this firm."
   ]
  },
  {
   "cell_type": "markdown",
   "id": "139bd07e-9fc6-44ea-8c50-e4bcaf939200",
   "metadata": {},
   "source": [
    "### Assessment Outline\n",
    "\n",
    "The assessment will be broken into two parts:\n",
    "1) A few technical questions to assess your python and data wrangling skills\n",
    "2) A mini project based on a research question"
   ]
  },
  {
   "cell_type": "markdown",
   "id": "f56f3a54-9d5a-47e6-9a2c-2c2f6f6f8c18",
   "metadata": {},
   "source": [
    "You may be asked to explain some of your answers during the in-person interview"
   ]
  },
  {
   "cell_type": "markdown",
   "id": "b434297b-cfaf-4542-b49e-bd3f76564b11",
   "metadata": {
    "tags": []
   },
   "source": [
    "# Part 1: Technical questions"
   ]
  },
  {
   "cell_type": "markdown",
   "id": "e8408cc7-6bac-484d-8e35-cd507a9333d2",
   "metadata": {
    "tags": []
   },
   "source": [
    "## Python"
   ]
  },
  {
   "cell_type": "markdown",
   "id": "71ed4ca0-9751-4e50-a72f-b2a5b97b4df5",
   "metadata": {
    "tags": []
   },
   "source": [
    "### Palindrome"
   ]
  },
  {
   "cell_type": "markdown",
   "id": "c64d8eb3-dc5c-4f50-9d3c-e5b7fad3e1a7",
   "metadata": {},
   "source": [
    "Given a string, write a python function to check if it is palindrome or not. A string is said to be palindrome if the reverse of the string is the same as the string. For example, “radar” is a palindrome, but “radix” is not a palindrome."
   ]
  },
  {
   "cell_type": "markdown",
   "id": "7066114f-e9f1-48f4-a87e-dad3f575c6c9",
   "metadata": {},
   "source": [
    "Example:\n",
    "\n",
    "    string_input = \"radar\"\n",
    "    result = is_palindrome(string_input)\n",
    "    result == True\n",
    "    \n",
    "    string_input = \"radix\"\n",
    "    result = is_palindrome(string_input)\n",
    "    result == False"
   ]
  },
  {
   "cell_type": "markdown",
   "id": "088d5936-e655-4b05-ad83-4bee1f87a538",
   "metadata": {},
   "source": [
    "#### Function"
   ]
  },
  {
   "cell_type": "code",
   "execution_count": 17,
   "id": "c81283f2-d262-4944-b21d-512e2cfa48ab",
   "metadata": {},
   "outputs": [],
   "source": [
    "def is_palindrome(string_input):\n",
    "    pass"
   ]
  },
  {
   "cell_type": "markdown",
   "id": "264d0aa3-e4ac-4fd3-8b5d-c0b9fdb5a8df",
   "metadata": {
    "tags": []
   },
   "source": [
    "#### Test"
   ]
  },
  {
   "cell_type": "code",
   "execution_count": 18,
   "id": "a549ff6b-8f72-495e-8e0a-1cd45e29242d",
   "metadata": {},
   "outputs": [],
   "source": [
    "true_input = \"radar\"\n",
    "is_palindrome(true_input) \n",
    "# Should return True"
   ]
  },
  {
   "cell_type": "code",
   "execution_count": 19,
   "id": "a4026fda-68c8-41f5-b4b7-caf7773d7426",
   "metadata": {},
   "outputs": [],
   "source": [
    "false_input = \"radix\"\n",
    "is_palindrome(false_input)\n",
    "# Should return False"
   ]
  },
  {
   "cell_type": "markdown",
   "id": "e58cda96-dc15-4ffe-85cf-1e5426fe95b4",
   "metadata": {
    "tags": []
   },
   "source": [
    "## Data Wrangling"
   ]
  },
  {
   "cell_type": "markdown",
   "id": "730edb1f-5173-45d1-a5b3-0d2f362b43b0",
   "metadata": {},
   "source": [
    "This part will test your ability to work with pandas for data wrangling, this is an essential skill to manipulate data for analysis."
   ]
  },
  {
   "cell_type": "markdown",
   "id": "800452ee-310e-42ee-9361-be6f5287fd26",
   "metadata": {},
   "source": [
    "### Column Transformation"
   ]
  },
  {
   "cell_type": "code",
   "execution_count": 20,
   "id": "35de58ef-039d-41c0-b8ce-366934025893",
   "metadata": {},
   "outputs": [],
   "source": [
    "import pandas as pd\n",
    "\n",
    "housing = pd.read_csv(\"data/housing.csv\")"
   ]
  },
  {
   "cell_type": "code",
   "execution_count": 21,
   "id": "f70f61b9-850f-4fd1-a547-55301a7d8f15",
   "metadata": {},
   "outputs": [
    {
     "data": {
      "text/plain": [
       "latitude             -0.144160\n",
       "longitude            -0.045967\n",
       "population           -0.024650\n",
       "total_bedrooms        0.049686\n",
       "households            0.065843\n",
       "housing_median_age    0.105623\n",
       "total_rooms           0.134153\n",
       "median_income         0.688075\n",
       "median_house_value    1.000000\n",
       "Name: median_house_value, dtype: float64"
      ]
     },
     "execution_count": 21,
     "metadata": {},
     "output_type": "execute_result"
    }
   ],
   "source": [
    "housing.corr()['median_house_value'].sort_values()"
   ]
  },
  {
   "cell_type": "markdown",
   "id": "da366ffd-82f1-46a1-8334-bfa4a09c0de8",
   "metadata": {},
   "source": [
    "Based on a simple correlation analysis we can expect the median income of our housing dataset to have the largest impact of the median_house_value, which is the variable we are trying to predict. From previous research we know that combining several features together could lead to higher correlations."
   ]
  },
  {
   "cell_type": "markdown",
   "id": "b4e280c5-f695-4c98-a518-47dd4dd01e4f",
   "metadata": {},
   "source": [
    "Using pandas please complete the following tasks:\n",
    "    \n",
    "    1) Create this column: \n",
    "        bedroom_to_room_ratio = total_bedrooms/total_rooms\n",
    "        \n",
    "    2) Create a new 'near_water' column containing 1 if the 'ocean_proximity' of a property is ('<1H OCEAN' or 'NEAR OCEAN' or 'NEAR BAY' or 'ISLAND') else 0 if 'ocean_proximity'<1H OCEAN = 'INLAND')"
   ]
  },
  {
   "cell_type": "code",
   "execution_count": 23,
   "id": "c11360b8-37e1-4b10-9d70-d99e814e5c17",
   "metadata": {},
   "outputs": [
    {
     "data": {
      "text/plain": [
       "<1H OCEAN     9136\n",
       "INLAND        6551\n",
       "NEAR OCEAN    2658\n",
       "NEAR BAY      2290\n",
       "ISLAND           5\n",
       "Name: ocean_proximity, dtype: int64"
      ]
     },
     "execution_count": 23,
     "metadata": {},
     "output_type": "execute_result"
    }
   ],
   "source": [
    "housing.ocean_proximity.value_counts()"
   ]
  },
  {
   "cell_type": "markdown",
   "id": "d00bfd64-fb5c-4194-9e42-83f06338acb9",
   "metadata": {},
   "source": [
    "#### The resulting dataframe should like this"
   ]
  },
  {
   "cell_type": "code",
   "execution_count": 29,
   "id": "aea12555-0698-465b-97ac-b4b45270d63b",
   "metadata": {},
   "outputs": [],
   "source": [
    "housing_answer = pd.read_csv(\"data/desired_result_housing.csv\", index_col=0)"
   ]
  },
  {
   "cell_type": "code",
   "execution_count": 36,
   "id": "2317df15-4b5d-4a8c-a214-c6398654e3cb",
   "metadata": {},
   "outputs": [
    {
     "data": {
      "text/html": [
       "<div>\n",
       "<style scoped>\n",
       "    .dataframe tbody tr th:only-of-type {\n",
       "        vertical-align: middle;\n",
       "    }\n",
       "\n",
       "    .dataframe tbody tr th {\n",
       "        vertical-align: top;\n",
       "    }\n",
       "\n",
       "    .dataframe thead th {\n",
       "        text-align: right;\n",
       "    }\n",
       "</style>\n",
       "<table border=\"1\" class=\"dataframe\">\n",
       "  <thead>\n",
       "    <tr style=\"text-align: right;\">\n",
       "      <th></th>\n",
       "      <th>total_rooms</th>\n",
       "      <th>total_bedrooms</th>\n",
       "      <th>ocean_proximity</th>\n",
       "      <th>bedroom_to_room_ratio</th>\n",
       "      <th>near_water</th>\n",
       "    </tr>\n",
       "  </thead>\n",
       "  <tbody>\n",
       "    <tr>\n",
       "      <th>0</th>\n",
       "      <td>880.0</td>\n",
       "      <td>129.0</td>\n",
       "      <td>NEAR BAY</td>\n",
       "      <td>0.146591</td>\n",
       "      <td>1</td>\n",
       "    </tr>\n",
       "    <tr>\n",
       "      <th>1</th>\n",
       "      <td>7099.0</td>\n",
       "      <td>1106.0</td>\n",
       "      <td>NEAR BAY</td>\n",
       "      <td>0.155797</td>\n",
       "      <td>1</td>\n",
       "    </tr>\n",
       "    <tr>\n",
       "      <th>2</th>\n",
       "      <td>1467.0</td>\n",
       "      <td>190.0</td>\n",
       "      <td>NEAR BAY</td>\n",
       "      <td>0.129516</td>\n",
       "      <td>1</td>\n",
       "    </tr>\n",
       "    <tr>\n",
       "      <th>3</th>\n",
       "      <td>1274.0</td>\n",
       "      <td>235.0</td>\n",
       "      <td>NEAR BAY</td>\n",
       "      <td>0.184458</td>\n",
       "      <td>1</td>\n",
       "    </tr>\n",
       "    <tr>\n",
       "      <th>4</th>\n",
       "      <td>1627.0</td>\n",
       "      <td>280.0</td>\n",
       "      <td>NEAR BAY</td>\n",
       "      <td>0.172096</td>\n",
       "      <td>1</td>\n",
       "    </tr>\n",
       "    <tr>\n",
       "      <th>...</th>\n",
       "      <td>...</td>\n",
       "      <td>...</td>\n",
       "      <td>...</td>\n",
       "      <td>...</td>\n",
       "      <td>...</td>\n",
       "    </tr>\n",
       "    <tr>\n",
       "      <th>20635</th>\n",
       "      <td>1665.0</td>\n",
       "      <td>374.0</td>\n",
       "      <td>INLAND</td>\n",
       "      <td>0.224625</td>\n",
       "      <td>0</td>\n",
       "    </tr>\n",
       "    <tr>\n",
       "      <th>20636</th>\n",
       "      <td>697.0</td>\n",
       "      <td>150.0</td>\n",
       "      <td>INLAND</td>\n",
       "      <td>0.215208</td>\n",
       "      <td>0</td>\n",
       "    </tr>\n",
       "    <tr>\n",
       "      <th>20637</th>\n",
       "      <td>2254.0</td>\n",
       "      <td>485.0</td>\n",
       "      <td>INLAND</td>\n",
       "      <td>0.215173</td>\n",
       "      <td>0</td>\n",
       "    </tr>\n",
       "    <tr>\n",
       "      <th>20638</th>\n",
       "      <td>1860.0</td>\n",
       "      <td>409.0</td>\n",
       "      <td>INLAND</td>\n",
       "      <td>0.219892</td>\n",
       "      <td>0</td>\n",
       "    </tr>\n",
       "    <tr>\n",
       "      <th>20639</th>\n",
       "      <td>2785.0</td>\n",
       "      <td>616.0</td>\n",
       "      <td>INLAND</td>\n",
       "      <td>0.221185</td>\n",
       "      <td>0</td>\n",
       "    </tr>\n",
       "  </tbody>\n",
       "</table>\n",
       "<p>20640 rows × 5 columns</p>\n",
       "</div>"
      ],
      "text/plain": [
       "       total_rooms  total_bedrooms ocean_proximity  bedroom_to_room_ratio  \\\n",
       "0            880.0           129.0        NEAR BAY               0.146591   \n",
       "1           7099.0          1106.0        NEAR BAY               0.155797   \n",
       "2           1467.0           190.0        NEAR BAY               0.129516   \n",
       "3           1274.0           235.0        NEAR BAY               0.184458   \n",
       "4           1627.0           280.0        NEAR BAY               0.172096   \n",
       "...            ...             ...             ...                    ...   \n",
       "20635       1665.0           374.0          INLAND               0.224625   \n",
       "20636        697.0           150.0          INLAND               0.215208   \n",
       "20637       2254.0           485.0          INLAND               0.215173   \n",
       "20638       1860.0           409.0          INLAND               0.219892   \n",
       "20639       2785.0           616.0          INLAND               0.221185   \n",
       "\n",
       "       near_water  \n",
       "0               1  \n",
       "1               1  \n",
       "2               1  \n",
       "3               1  \n",
       "4               1  \n",
       "...           ...  \n",
       "20635           0  \n",
       "20636           0  \n",
       "20637           0  \n",
       "20638           0  \n",
       "20639           0  \n",
       "\n",
       "[20640 rows x 5 columns]"
      ]
     },
     "execution_count": 36,
     "metadata": {},
     "output_type": "execute_result"
    }
   ],
   "source": [
    "housing_answer[['total_rooms', 'total_bedrooms', 'ocean_proximity', 'bedroom_to_room_ratio', 'near_water']]"
   ]
  },
  {
   "cell_type": "markdown",
   "id": "4351212a-63e7-49e3-b8b4-269f8c6f3032",
   "metadata": {},
   "source": [
    "### Work"
   ]
  },
  {
   "cell_type": "code",
   "execution_count": 24,
   "id": "3302d4dd-7cfc-46ac-8e33-be5f837c0b9d",
   "metadata": {},
   "outputs": [],
   "source": [
    "# Show your working here"
   ]
  },
  {
   "cell_type": "markdown",
   "id": "4b7d6b0b-ef7e-40da-a5d8-6b29ed5eb3c4",
   "metadata": {
    "tags": []
   },
   "source": [
    "# Part 2: Project"
   ]
  },
  {
   "cell_type": "markdown",
   "id": "66853461-81ac-4c91-aaf8-33acbef7f4e1",
   "metadata": {},
   "source": [
    "The csv file chicago_sales.csv represents a table of 6685 sales in the Chicago MSA (Metropolitan Statistical Area). The investment team are interested in finding out about the sales trends. Particularly over the last 10 years.\n",
    "\n",
    "Questions you may wish to answer:\n",
    "- Has the average price_per_acre_lot_area increased over the last 10 years? 5 years?\n",
    "- What is the average amoount of sales per property?\n",
    "- Did some years have higher deal counts (# of sales) than others, if so, is there a trend ? \n",
    "\n",
    "This is purposely an open ended question as we are primarily testing your ability to think for yourself and assess what insights you may deem useful for an investment analyst. \n",
    "\n",
    "Hint: Visual insights are an extremely thorough way to back up your points, and feel free to add your own analysis through text using the markdown state on a jupyter cell."
   ]
  },
  {
   "cell_type": "code",
   "execution_count": 25,
   "id": "cb14768f-b69b-4f0b-8d6d-e06f6e2ed01e",
   "metadata": {},
   "outputs": [],
   "source": [
    "import pandas as pd\n",
    "import matplotlib.pyplot as plt"
   ]
  },
  {
   "cell_type": "code",
   "execution_count": 26,
   "id": "b8a2a30e-37bb-48cc-add9-bbcf35bfe99f",
   "metadata": {},
   "outputs": [],
   "source": [
    "sales = pd.read_csv(\"data/chicago_sales.csv\", index_col=0)"
   ]
  },
  {
   "cell_type": "code",
   "execution_count": 27,
   "id": "1489003c-baf2-4a73-b760-942548953449",
   "metadata": {},
   "outputs": [
    {
     "data": {
      "text/html": [
       "<div>\n",
       "<style scoped>\n",
       "    .dataframe tbody tr th:only-of-type {\n",
       "        vertical-align: middle;\n",
       "    }\n",
       "\n",
       "    .dataframe tbody tr th {\n",
       "        vertical-align: top;\n",
       "    }\n",
       "\n",
       "    .dataframe thead th {\n",
       "        text-align: right;\n",
       "    }\n",
       "</style>\n",
       "<table border=\"1\" class=\"dataframe\">\n",
       "  <thead>\n",
       "    <tr style=\"text-align: right;\">\n",
       "      <th></th>\n",
       "      <th>sales_id</th>\n",
       "      <th>sale_date</th>\n",
       "      <th>sale_amount</th>\n",
       "      <th>price_per_acre_lot_area</th>\n",
       "      <th>price_per_building_area</th>\n",
       "      <th>recording_date</th>\n",
       "      <th>property_id</th>\n",
       "    </tr>\n",
       "  </thead>\n",
       "  <tbody>\n",
       "    <tr>\n",
       "      <th>0</th>\n",
       "      <td>75a77049-e275-5f1e-a3cb-397bfd706ad8</td>\n",
       "      <td>2016-10-10</td>\n",
       "      <td>0.0</td>\n",
       "      <td>NaN</td>\n",
       "      <td>0.000000</td>\n",
       "      <td>2016-10-13</td>\n",
       "      <td>5405f32d-0e37-5f48-910b-13ad98f2ebdf</td>\n",
       "    </tr>\n",
       "    <tr>\n",
       "      <th>1</th>\n",
       "      <td>ec383140-9e36-566b-8ea2-0a61fb887d27</td>\n",
       "      <td>2003-05-20</td>\n",
       "      <td>NaN</td>\n",
       "      <td>NaN</td>\n",
       "      <td>NaN</td>\n",
       "      <td>2003-05-20</td>\n",
       "      <td>5405f32d-0e37-5f48-910b-13ad98f2ebdf</td>\n",
       "    </tr>\n",
       "    <tr>\n",
       "      <th>2</th>\n",
       "      <td>50afe2a0-3389-57e3-8cc7-d94c734bef71</td>\n",
       "      <td>2020-08-20</td>\n",
       "      <td>1750000.0</td>\n",
       "      <td>292161.875232</td>\n",
       "      <td>41.037426</td>\n",
       "      <td>2020-12-30</td>\n",
       "      <td>f5dced65-05eb-5c79-a305-cb9c0184cf5a</td>\n",
       "    </tr>\n",
       "    <tr>\n",
       "      <th>3</th>\n",
       "      <td>d56d9ec0-7491-5294-b215-74d9f86e7551</td>\n",
       "      <td>2008-03-13</td>\n",
       "      <td>1200000.0</td>\n",
       "      <td>200339.571588</td>\n",
       "      <td>28.139949</td>\n",
       "      <td>2008-03-27</td>\n",
       "      <td>f5dced65-05eb-5c79-a305-cb9c0184cf5a</td>\n",
       "    </tr>\n",
       "    <tr>\n",
       "      <th>4</th>\n",
       "      <td>c34b87da-d2be-5ad6-877a-df9c94c90a7d</td>\n",
       "      <td>1985-08-01</td>\n",
       "      <td>37000.0</td>\n",
       "      <td>14800.000000</td>\n",
       "      <td>2.202381</td>\n",
       "      <td>1985-08-01</td>\n",
       "      <td>f5dced65-05eb-5c79-a305-cb9c0184cf5a</td>\n",
       "    </tr>\n",
       "  </tbody>\n",
       "</table>\n",
       "</div>"
      ],
      "text/plain": [
       "                               sales_id   sale_date  sale_amount  \\\n",
       "0  75a77049-e275-5f1e-a3cb-397bfd706ad8  2016-10-10          0.0   \n",
       "1  ec383140-9e36-566b-8ea2-0a61fb887d27  2003-05-20          NaN   \n",
       "2  50afe2a0-3389-57e3-8cc7-d94c734bef71  2020-08-20    1750000.0   \n",
       "3  d56d9ec0-7491-5294-b215-74d9f86e7551  2008-03-13    1200000.0   \n",
       "4  c34b87da-d2be-5ad6-877a-df9c94c90a7d  1985-08-01      37000.0   \n",
       "\n",
       "   price_per_acre_lot_area  price_per_building_area recording_date  \\\n",
       "0                      NaN                 0.000000     2016-10-13   \n",
       "1                      NaN                      NaN     2003-05-20   \n",
       "2            292161.875232                41.037426     2020-12-30   \n",
       "3            200339.571588                28.139949     2008-03-27   \n",
       "4             14800.000000                 2.202381     1985-08-01   \n",
       "\n",
       "                            property_id  \n",
       "0  5405f32d-0e37-5f48-910b-13ad98f2ebdf  \n",
       "1  5405f32d-0e37-5f48-910b-13ad98f2ebdf  \n",
       "2  f5dced65-05eb-5c79-a305-cb9c0184cf5a  \n",
       "3  f5dced65-05eb-5c79-a305-cb9c0184cf5a  \n",
       "4  f5dced65-05eb-5c79-a305-cb9c0184cf5a  "
      ]
     },
     "execution_count": 27,
     "metadata": {},
     "output_type": "execute_result"
    }
   ],
   "source": [
    "sales.head()"
   ]
  },
  {
   "cell_type": "code",
   "execution_count": 28,
   "id": "19eae2c8-1d09-4f33-8c17-8472a626299c",
   "metadata": {},
   "outputs": [],
   "source": [
    "# Show your working here"
   ]
  }
 ],
 "metadata": {
  "kernelspec": {
   "display_name": "Python 3 (ipykernel)",
   "language": "python",
   "name": "python3"
  },
  "language_info": {
   "codemirror_mode": {
    "name": "ipython",
    "version": 3
   },
   "file_extension": ".py",
   "mimetype": "text/x-python",
   "name": "python",
   "nbconvert_exporter": "python",
   "pygments_lexer": "ipython3",
   "version": "3.9.10"
  }
 },
 "nbformat": 4,
 "nbformat_minor": 5
}
